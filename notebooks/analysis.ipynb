{
 "cells": [
  {
   "cell_type": "code",
   "execution_count": 3,
   "id": "f43bdcec",
   "metadata": {},
   "outputs": [],
   "source": [
    "from helpers import get_fitbit_client\n",
    "import datetime"
   ]
  },
  {
   "cell_type": "code",
   "execution_count": 6,
   "id": "919be261",
   "metadata": {},
   "outputs": [],
   "source": [
    "today_date = datetime.datetime.now().strftime(\"%Y-%m-%d\")"
   ]
  },
  {
   "cell_type": "code",
   "execution_count": 4,
   "id": "c6eb21e8",
   "metadata": {},
   "outputs": [],
   "source": [
    "client = get_fitbit_client()"
   ]
  },
  {
   "cell_type": "code",
   "execution_count": 27,
   "id": "1b5c3742",
   "metadata": {},
   "outputs": [],
   "source": [
    "fit_heart = client.intraday_time_series(\n",
    "    'activities/heart', \n",
    "    base_date=today_date, \n",
    ")"
   ]
  },
  {
   "cell_type": "code",
   "execution_count": 28,
   "id": "7ae13913",
   "metadata": {},
   "outputs": [
    {
     "data": {
      "text/plain": [
       "{'activities-heart': [{'dateTime': '2022-12-25',\n",
       "   'value': {'customHeartRateZones': [],\n",
       "    'heartRateZones': [{'caloriesOut': 3001.37792,\n",
       "      'max': 118,\n",
       "      'min': 30,\n",
       "      'minutes': 1439,\n",
       "      'name': 'Out of Range'},\n",
       "     {'caloriesOut': 4.77504,\n",
       "      'max': 143,\n",
       "      'min': 118,\n",
       "      'minutes': 1,\n",
       "      'name': 'Fat Burn'},\n",
       "     {'caloriesOut': 0,\n",
       "      'max': 174,\n",
       "      'min': 143,\n",
       "      'minutes': 0,\n",
       "      'name': 'Cardio'},\n",
       "     {'caloriesOut': 0, 'max': 220, 'min': 174, 'minutes': 0, 'name': 'Peak'}],\n",
       "    'restingHeartRate': 69}}]}"
      ]
     },
     "execution_count": 28,
     "metadata": {},
     "output_type": "execute_result"
    }
   ],
   "source": [
    "fit_heart"
   ]
  },
  {
   "cell_type": "markdown",
   "id": "e37bb5ed",
   "metadata": {},
   "source": [
    "# Heart rate"
   ]
  },
  {
   "cell_type": "code",
   "execution_count": 29,
   "id": "633281df",
   "metadata": {},
   "outputs": [],
   "source": [
    "from helpers import get_token_dict\n",
    "import requests"
   ]
  },
  {
   "cell_type": "code",
   "execution_count": 51,
   "id": "6e3c39d7",
   "metadata": {},
   "outputs": [],
   "source": [
    "token_dict = get_token_dict()\n",
    "access_token = token_dict[\"access_token\"]\n",
    "auth_token = f\"Bearer {access_token}\"\n",
    "\n",
    "base_url = \"https://api.fitbit.com\"\n",
    "query = f\"/1/user/-/activities/heart/date/2022-12-24/1d.json\""
   ]
  },
  {
   "cell_type": "code",
   "execution_count": 55,
   "id": "f10ba298",
   "metadata": {},
   "outputs": [
    {
     "data": {
      "text/plain": [
       "{'activities-heart': [{'dateTime': '2022-12-24',\n",
       "   'value': {'customHeartRateZones': [],\n",
       "    'heartRateZones': [{'caloriesOut': 3041.96576,\n",
       "      'max': 122,\n",
       "      'min': 30,\n",
       "      'minutes': 1434,\n",
       "      'name': 'Out of Range'},\n",
       "     {'caloriesOut': 39.924640000000004,\n",
       "      'max': 146,\n",
       "      'min': 122,\n",
       "      'minutes': 6,\n",
       "      'name': 'Fat Burn'},\n",
       "     {'caloriesOut': 0,\n",
       "      'max': 175,\n",
       "      'min': 146,\n",
       "      'minutes': 0,\n",
       "      'name': 'Cardio'},\n",
       "     {'caloriesOut': 0, 'max': 220, 'min': 175, 'minutes': 0, 'name': 'Peak'}],\n",
       "    'restingHeartRate': 76}}]}"
      ]
     },
     "execution_count": 55,
     "metadata": {},
     "output_type": "execute_result"
    }
   ],
   "source": [
    "resp = requests.get(\n",
    "    base_url + query,\n",
    "    headers={\"authorization\": auth_token}\n",
    ")\n",
    "resp.json()"
   ]
  },
  {
   "cell_type": "markdown",
   "id": "bbfc74e4",
   "metadata": {},
   "source": [
    "## Heart rate intraday"
   ]
  },
  {
   "cell_type": "code",
   "execution_count": 58,
   "id": "0e362563",
   "metadata": {},
   "outputs": [],
   "source": [
    "query = \"/1/user/-/activities/heart/date/2022-12-24/1d/1sec.json\""
   ]
  },
  {
   "cell_type": "code",
   "execution_count": 59,
   "id": "28978c89",
   "metadata": {},
   "outputs": [
    {
     "data": {
      "text/plain": [
       "{'activities-heart': [{'dateTime': '2022-12-24',\n",
       "   'value': {'customHeartRateZones': [],\n",
       "    'heartRateZones': [{'caloriesOut': 3041.96576,\n",
       "      'max': 122,\n",
       "      'min': 30,\n",
       "      'minutes': 1434,\n",
       "      'name': 'Out of Range'},\n",
       "     {'caloriesOut': 39.924640000000004,\n",
       "      'max': 146,\n",
       "      'min': 122,\n",
       "      'minutes': 6,\n",
       "      'name': 'Fat Burn'},\n",
       "     {'caloriesOut': 0,\n",
       "      'max': 175,\n",
       "      'min': 146,\n",
       "      'minutes': 0,\n",
       "      'name': 'Cardio'},\n",
       "     {'caloriesOut': 0, 'max': 220, 'min': 175, 'minutes': 0, 'name': 'Peak'}],\n",
       "    'restingHeartRate': 76}}]}"
      ]
     },
     "execution_count": 59,
     "metadata": {},
     "output_type": "execute_result"
    }
   ],
   "source": [
    "resp = requests.get(\n",
    "    base_url + query,\n",
    "    headers={\"authorization\": auth_token}\n",
    ")\n",
    "resp.json()"
   ]
  },
  {
   "cell_type": "code",
   "execution_count": null,
   "id": "9d0c5efc",
   "metadata": {},
   "outputs": [],
   "source": []
  }
 ],
 "metadata": {
  "kernelspec": {
   "display_name": "Python 3 (ipykernel)",
   "language": "python",
   "name": "python3"
  },
  "language_info": {
   "codemirror_mode": {
    "name": "ipython",
    "version": 3
   },
   "file_extension": ".py",
   "mimetype": "text/x-python",
   "name": "python",
   "nbconvert_exporter": "python",
   "pygments_lexer": "ipython3",
   "version": "3.10.8"
  }
 },
 "nbformat": 4,
 "nbformat_minor": 5
}
